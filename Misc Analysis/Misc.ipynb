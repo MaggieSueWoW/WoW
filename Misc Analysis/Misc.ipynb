{
 "cells": [
  {
   "cell_type": "code",
   "id": "initial_id",
   "metadata": {
    "collapsed": true,
    "ExecuteTime": {
     "end_time": "2025-09-19T05:14:55.366679Z",
     "start_time": "2025-09-19T05:14:55.095399Z"
    }
   },
   "source": [
    "import os\n",
    "from pymongo import MongoClient\n",
    "import pandas as pd\n",
    "\n",
    "# --- Config ---\n",
    "MONGO_URI = os.getenv(\"MONGODB_URI\", \"mongodb://localhost:27017\")\n",
    "DB_NAME = \"wowaudit_database\"\n",
    "COLL_NAME = \"wowaudit_hourly\"\n",
    "PLAYER_NAME = \"Nyph\"\n",
    "\n",
    "# --- Connect ---\n",
    "client = MongoClient(MONGO_URI)\n",
    "coll = client[DB_NAME][COLL_NAME]\n",
    "\n",
    "# --- Query: only what we need, for Nyph ---\n",
    "pipeline = [\n",
    "    {\"$match\": {\"metadata.name\": PLAYER_NAME}},\n",
    "    {\"$project\": {\n",
    "        \"_id\": 0,\n",
    "        \"timestamp\": 1,\n",
    "        \"season_mythic_dungeons\": 1,\n",
    "        \"metadata.expansion\": 1,\n",
    "        \"metadata.season\": 1\n",
    "    }},\n",
    "    {\"$sort\": {\"timestamp\": 1}}\n",
    "]\n",
    "\n",
    "rows = list(coll.aggregate(pipeline))\n",
    "\n",
    "# --- Frame it ---\n",
    "if not rows:\n",
    "    raise SystemExit(f\"No rows found for player {PLAYER_NAME}\")\n",
    "\n",
    "df = pd.DataFrame(rows)\n",
    "\n",
    "# Flatten metadata fields\n",
    "df[\"expansion\"] = df[\"metadata\"].apply(lambda m: m.get(\"expansion\") if isinstance(m, dict) else None)\n",
    "df[\"season\"]    = df[\"metadata\"].apply(lambda m: m.get(\"season\") if isinstance(m, dict) else None)\n",
    "df = df.drop(columns=[\"metadata\"])\n",
    "\n",
    "# Ensure timestamp is timezone-aware UTC (Sheets likes ISO strings)\n",
    "df[\"timestamp\"] = pd.to_datetime(df[\"timestamp\"], utc=True)\n",
    "\n",
    "# Helpful combined label if you want it in Sheets\n",
    "df[\"expansion_season\"] = df.apply(\n",
    "    lambda r: f'{r.get(\"expansion\", \"\")} {str(r.get(\"season\", \"\"))}'.strip(),\n",
    "    axis=1\n",
    ")\n",
    "\n",
    "# Optional: per-season \"delta\" of season_mythic_dungeons\n",
    "# If season_mythic_dungeons is a running season total (typical), delta shows new dungeons since last sample.\n",
    "df = df.sort_values([\"season\", \"timestamp\"])\n",
    "df[\"delta\"] = (\n",
    "    df.groupby(\"season\")[\"season_mythic_dungeons\"]\n",
    "      .diff()\n",
    "      .fillna(0)\n",
    "      .clip(lower=0)\n",
    "      .astype(int)\n",
    ")\n",
    "\n",
    "# Final tidy columns for Google Sheets\n",
    "out = df[[\n",
    "    \"timestamp\",\n",
    "    \"expansion\",\n",
    "    \"season\",\n",
    "    \"expansion_season\",\n",
    "    \"season_mythic_dungeons\",\n",
    "    \"delta\"\n",
    "]]\n",
    "\n",
    "# If you want local CSV to import to Sheets:\n",
    "out.to_csv(\"nyph_mplus_by_season.csv\", index=False)\n",
    "print(\"Wrote nyph_mplus_by_season.csv\")\n",
    "\n",
    "# --- Tips for plotting in Google Sheets ---\n",
    "# 1) Import the CSV into a sheet.\n",
    "# 2) Insert → Chart:\n",
    "#    - For cumulative lines over time: use \"timestamp\" as X-axis, add a series for \"season_mythic_dungeons\".\n",
    "#    - If you want separate lines per season in one chart:\n",
    "#         * Create a pivot table with Rows = timestamp, Columns = season,\n",
    "#           Values = MAX of season_mythic_dungeons.\n",
    "#         * Chart the pivot table as a line chart (one line per season).\n",
    "#    - For bars of \"new dungeons per sample\": use the \"delta\" series instead.\n"
   ],
   "outputs": [
    {
     "name": "stdout",
     "output_type": "stream",
     "text": [
      "Wrote nyph_mplus_by_season.csv\n"
     ]
    }
   ],
   "execution_count": 5
  },
  {
   "metadata": {},
   "cell_type": "code",
   "outputs": [],
   "execution_count": null,
   "source": "",
   "id": "a5faae2bda916a52"
  }
 ],
 "metadata": {
  "kernelspec": {
   "display_name": "Python 3",
   "language": "python",
   "name": "python3"
  },
  "language_info": {
   "codemirror_mode": {
    "name": "ipython",
    "version": 2
   },
   "file_extension": ".py",
   "mimetype": "text/x-python",
   "name": "python",
   "nbconvert_exporter": "python",
   "pygments_lexer": "ipython2",
   "version": "2.7.6"
  }
 },
 "nbformat": 4,
 "nbformat_minor": 5
}
