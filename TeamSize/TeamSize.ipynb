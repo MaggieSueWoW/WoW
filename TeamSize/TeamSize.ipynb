{
 "cells": [
  {
   "metadata": {},
   "cell_type": "markdown",
   "source": [
    "Considerations of team size in a conversation with ChatGPT: https://chatgpt.com/c/66db5e28-0fbc-8005-8867-0a3691f6f5f7\n",
    "\n",
    "This conversation was from sometime in early 2024 IIRC.\n",
    "\n",
    "The goal was to consider the probability of fielding a Mythic team of 20 on any given night given roster sizes from 25-28. A quick consideration of this is often wrong, as the math is intuitive.\n",
    "\n",
    "Towards the end of the conversation we get into considering attendance rates for individuals instead of using a distribution. The compute time needed to do this for a team of 28 was too high for ChatGPT's servers at the time, so I had to run it locally. This is the code.\n",
    "\n",
    "I recently needed to re-run this so I figured I'd toss it into this repo."
   ],
   "id": "46cc46e18d326098"
  },
  {
   "cell_type": "code",
   "id": "initial_id",
   "metadata": {
    "collapsed": true,
    "ExecuteTime": {
     "end_time": "2025-09-04T19:56:47.949028Z",
     "start_time": "2025-09-04T19:56:26.778130Z"
    }
   },
   "source": [
    "import numpy as np\n",
    "import pandas as pd\n",
    "from itertools import combinations\n",
    "\n",
    "# Function to generate attendance rates with a wider standard deviation\n",
    "def generate_attendance_rates(n, mean=0.9, std=0.15, low=0.6, high=1.0):\n",
    "    attendance_rates = np.random.normal(mean, std, n)\n",
    "    return np.clip(attendance_rates, low, high)\n",
    "\n",
    "# Function to calculate the exact probability of exactly k attendees\n",
    "def exact_k_attendees(attendance_rates, k):\n",
    "    n = len(attendance_rates)\n",
    "    total_prob = 0\n",
    "\n",
    "    # Generate all combinations of k attendees\n",
    "    for attendees in combinations(range(n), k):\n",
    "        prob_attend = 1\n",
    "        prob_not_attend = 1\n",
    "        for i in range(n):\n",
    "            if i in attendees:\n",
    "                prob_attend *= attendance_rates[i]\n",
    "            else:\n",
    "                prob_not_attend *= (1 - attendance_rates[i])\n",
    "        total_prob += prob_attend * prob_not_attend\n",
    "\n",
    "    return total_prob\n",
    "\n",
    "# Generate sample data for a team of 28 people\n",
    "n_people = 28\n",
    "team_attendance_rates = generate_attendance_rates(n_people)\n",
    "\n",
    "# Create a DataFrame to visualize the attendance rates\n",
    "team_attendance_df = pd.DataFrame({\n",
    "    'Person': [f'Person {i+1}' for i in range(n_people)],\n",
    "    'Attendance Rate': team_attendance_rates\n",
    "})\n",
    "\n",
    "# Function to calculate cumulative probabilities of at least k attendees\n",
    "def cumulative_probabilities(team_attendance_rates, min_attendees, max_attendees):\n",
    "    cumulative_probs = []\n",
    "    for k in range(min_attendees, max_attendees + 1):\n",
    "        cumulative_prob = sum(exact_k_attendees(team_attendance_rates, i) for i in range(k, max_attendees + 1))\n",
    "        cumulative_probs.append(cumulative_prob)\n",
    "    return cumulative_probs\n",
    "\n",
    "# Calculate cumulative probabilities for at least 20 to 28 attendees\n",
    "cumulative_probabilities_wide = cumulative_probabilities(team_attendance_rates, 20, n_people)\n",
    "\n",
    "# Display the attendance rates and the cumulative probabilities\n",
    "print(\"Team Attendance Rates:\\n\", team_attendance_df)\n",
    "print(\"\\nCumulative Probabilities for at least 20 to 28 attendees:\\n\", cumulative_probabilities_wide)\n"
   ],
   "outputs": [
    {
     "name": "stdout",
     "output_type": "stream",
     "text": [
      "Team Attendance Rates:\n",
      "        Person  Attendance Rate\n",
      "0    Person 1         0.885756\n",
      "1    Person 2         0.970914\n",
      "2    Person 3         1.000000\n",
      "3    Person 4         1.000000\n",
      "4    Person 5         1.000000\n",
      "5    Person 6         0.722025\n",
      "6    Person 7         0.916659\n",
      "7    Person 8         1.000000\n",
      "8    Person 9         0.727240\n",
      "9   Person 10         0.864397\n",
      "10  Person 11         0.827404\n",
      "11  Person 12         0.908021\n",
      "12  Person 13         0.659109\n",
      "13  Person 14         0.880363\n",
      "14  Person 15         0.864167\n",
      "15  Person 16         0.748744\n",
      "16  Person 17         0.600000\n",
      "17  Person 18         1.000000\n",
      "18  Person 19         1.000000\n",
      "19  Person 20         1.000000\n",
      "20  Person 21         0.884948\n",
      "21  Person 22         1.000000\n",
      "22  Person 23         0.823824\n",
      "23  Person 24         1.000000\n",
      "24  Person 25         0.902833\n",
      "25  Person 26         0.895804\n",
      "26  Person 27         0.688861\n",
      "27  Person 28         0.900179\n",
      "\n",
      "Cumulative Probabilities for at least 20 to 28 attendees:\n",
      " [np.float64(0.9982438337783738), np.float64(0.9918435641095182), np.float64(0.9694571380773499), np.float64(0.9079156293782001), np.float64(0.7769421211523806), np.float64(0.5661605937248206), np.float64(0.3189029089491248), np.float64(0.11999348576549865), np.float64(0.022140811781923106)]\n"
     ]
    }
   ],
   "execution_count": 2
  }
 ],
 "metadata": {
  "kernelspec": {
   "display_name": "Python 3",
   "language": "python",
   "name": "python3"
  },
  "language_info": {
   "codemirror_mode": {
    "name": "ipython",
    "version": 2
   },
   "file_extension": ".py",
   "mimetype": "text/x-python",
   "name": "python",
   "nbconvert_exporter": "python",
   "pygments_lexer": "ipython2",
   "version": "2.7.6"
  }
 },
 "nbformat": 4,
 "nbformat_minor": 5
}
